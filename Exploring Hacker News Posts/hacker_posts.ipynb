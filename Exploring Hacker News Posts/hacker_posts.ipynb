{
 "cells": [
  {
   "cell_type": "markdown",
   "metadata": {
    "collapsed": true
   },
   "source": [
    "# Exploring Hacker News posts\n",
    "\n",
    "In this project, I explore posts on [Hacker News](https://news.ycombinator.com/), a popular site where technology related stories (or 'posts') are voted and commented upon. The two types of posts I explore begin with either _Ask HN_ or _Show HN_. Specifically for this project, I want to answer the following:\n",
    "- Do Ask HN or Show HN receive more comments on average?\n",
    "- Do posts created at a certain time receive more comments on average?"
   ]
  },
  {
   "cell_type": "code",
   "execution_count": 1,
   "metadata": {
    "scrolled": true
   },
   "outputs": [
    {
     "ename": "FileNotFoundError",
     "evalue": "[Errno 2] No such file or directory: 'hacker_news.csv'",
     "output_type": "error",
     "traceback": [
      "\u001b[1;31m---------------------------------------------------------------------------\u001b[0m",
      "\u001b[1;31mFileNotFoundError\u001b[0m                         Traceback (most recent call last)",
      "\u001b[1;32m<ipython-input-1-995ce2f919c7>\u001b[0m in \u001b[0;36m<module>\u001b[1;34m()\u001b[0m\n\u001b[0;32m      1\u001b[0m \u001b[1;31m#Read in the file and display the first few lines. The dataset is a list of lists\u001b[0m\u001b[1;33m\u001b[0m\u001b[1;33m\u001b[0m\u001b[0m\n\u001b[0;32m      2\u001b[0m \u001b[1;32mfrom\u001b[0m \u001b[0mcsv\u001b[0m \u001b[1;32mimport\u001b[0m \u001b[0mreader\u001b[0m\u001b[1;33m\u001b[0m\u001b[0m\n\u001b[1;32m----> 3\u001b[1;33m \u001b[0mopened_file\u001b[0m\u001b[1;33m=\u001b[0m\u001b[0mopen\u001b[0m\u001b[1;33m(\u001b[0m\u001b[1;34m\"hacker_news.csv\"\u001b[0m\u001b[1;33m)\u001b[0m\u001b[1;33m\u001b[0m\u001b[0m\n\u001b[0m\u001b[0;32m      4\u001b[0m \u001b[0mreader_file\u001b[0m\u001b[1;33m=\u001b[0m \u001b[0mreader\u001b[0m\u001b[1;33m(\u001b[0m\u001b[0mopened_file\u001b[0m\u001b[1;33m)\u001b[0m\u001b[1;33m\u001b[0m\u001b[0m\n\u001b[0;32m      5\u001b[0m \u001b[0mhn\u001b[0m\u001b[1;33m=\u001b[0m\u001b[0mlist\u001b[0m\u001b[1;33m(\u001b[0m\u001b[0mreader_file\u001b[0m\u001b[1;33m)\u001b[0m\u001b[1;33m\u001b[0m\u001b[0m\n",
      "\u001b[1;31mFileNotFoundError\u001b[0m: [Errno 2] No such file or directory: 'hacker_news.csv'"
     ]
    }
   ],
   "source": [
    "#Read in the file and display the first few lines. The dataset is a list of lists\n",
    "from csv import reader\n",
    "opened_file=open(\"hacker_news.csv\")\n",
    "reader_file= reader(opened_file)\n",
    "hn=list(reader_file)\n",
    "print(hn[0:5])"
   ]
  },
  {
   "cell_type": "code",
   "execution_count": 16,
   "metadata": {},
   "outputs": [
    {
     "name": "stdout",
     "output_type": "stream",
     "text": [
      "['id', 'title', 'url', 'num_points', 'num_comments', 'author', 'created_at']\n",
      "[['12224879', 'Interactive Dynamic Video', 'http://www.interactivedynamicvideo.com/', '386', '52', 'ne0phyte', '8/4/2016 11:52'], ['10975351', 'How to Use Open Source and Shut the Fuck Up at the Same Time', 'http://hueniverse.com/2016/01/26/how-to-use-open-source-and-shut-the-fuck-up-at-the-same-time/', '39', '10', 'josep2', '1/26/2016 19:30'], ['11964716', \"Florida DJs May Face Felony for April Fools' Water Joke\", 'http://www.thewire.com/entertainment/2013/04/florida-djs-april-fools-water-joke/63798/', '2', '1', 'vezycash', '6/23/2016 22:20'], ['11919867', 'Technology ventures: From Idea to Enterprise', 'https://www.amazon.com/Technology-Ventures-Enterprise-Thomas-Byers/dp/0073523429', '3', '1', 'hswarna', '6/17/2016 0:01'], ['10301696', 'Note by Note: The Making of Steinway L1037 (2007)', 'http://www.nytimes.com/2007/11/07/movies/07stein.html?_r=0', '8', '2', 'walterbell', '9/30/2015 4:12']]\n"
     ]
    }
   ],
   "source": [
    "headers=hn[0]\n",
    "hn=hn[1:]\n",
    "print(headers)\n",
    "print(hn[:5])"
   ]
  },
  {
   "cell_type": "code",
   "execution_count": 17,
   "metadata": {},
   "outputs": [
    {
     "name": "stdout",
     "output_type": "stream",
     "text": [
      "1744\n",
      "1162\n",
      "17194\n"
     ]
    }
   ],
   "source": [
    "ask_posts=[]\n",
    "show_posts=[]\n",
    "other_posts=[]\n",
    "\n",
    "for posts in hn:\n",
    "    title=posts[1]\n",
    "    if(title.lower().startswith('ask hn')):\n",
    "        ask_posts.append(posts)\n",
    "    elif(title.lower().startswith('show hn')):\n",
    "        show_posts.append(posts)\n",
    "    else:\n",
    "        other_posts.append(posts)\n",
    "    \n",
    "print(len(ask_posts))\n",
    "print(len(show_posts))\n",
    "print(len(other_posts))"
   ]
  },
  {
   "cell_type": "code",
   "execution_count": 18,
   "metadata": {},
   "outputs": [
    {
     "name": "stdout",
     "output_type": "stream",
     "text": [
      "Avg ask comments:  14.038417431192661\n",
      "Avg show comments:  10.31669535283993\n"
     ]
    }
   ],
   "source": [
    "total_ask_comments=0\n",
    "#print(ask_posts[0])\n",
    "for p in ask_posts:\n",
    "    num_comments=int(p[4])\n",
    "    total_ask_comments+=num_comments\n",
    "avg_ask_comments=total_ask_comments/len(ask_posts)\n",
    "\n",
    "\n",
    "total_show_comments=0\n",
    "for s in show_posts:\n",
    "    num_scomments=int(s[4])\n",
    "    total_show_comments+=num_scomments\n",
    "avg_show_comments=total_show_comments/len(show_posts)\n",
    "\n",
    "print('Avg ask comments: ',avg_ask_comments)\n",
    "print('Avg show comments: ',avg_show_comments)\n",
    "\n",
    "\n"
   ]
  },
  {
   "cell_type": "code",
   "execution_count": null,
   "metadata": {},
   "outputs": [],
   "source": [
    "\n",
    "    "
   ]
  },
  {
   "cell_type": "markdown",
   "metadata": {},
   "source": [
    "On average, ask posts get 14 comments while show posts only get 2 comments."
   ]
  },
  {
   "cell_type": "code",
   "execution_count": 19,
   "metadata": {},
   "outputs": [],
   "source": [
    "import datetime as dt\n",
    "result_list=[]\n",
    "for p in ask_posts:\n",
    "    new_list=[]\n",
    "    new_list.append(p[6])\n",
    "    new_list.append(p[4])\n",
    "    result_list.append(new_list)\n",
    "    \n",
    "counts_by_hour={}\n",
    "comments_by_hour={}\n",
    "\n",
    "for r in result_list:\n",
    "    date_1_dt = dt.datetime.strptime(r[0], \"%m/%d/%Y %H:%M%S\")\n",
    "    date_1_str=dt.datetime.strftime(date_1_dt,\"%m/%d/%Y %H:%M%S\")\n",
    "    str_hour=int(date_1_str[11:13])\n",
    "    hour=int(str_hour)\n",
    "    if(hour not in counts_by_hour):\n",
    "        counts_by_hour[hour]=1\n",
    "        comments_by_hour[hour]=int(r[1])\n",
    "    else:\n",
    "        counts_by_hour[hour]=counts_by_hour[hour]+1\n",
    "        comments_by_hour[hour]=+int(r[1])\n",
    "#print(comments_by_hour)"
   ]
  },
  {
   "cell_type": "code",
   "execution_count": 20,
   "metadata": {},
   "outputs": [
    {
     "name": "stdout",
     "output_type": "stream",
     "text": [
      "[[0, 0.2727272727272727], [1, 0.06666666666666667], [2, 0.10344827586206896], [3, 0.018518518518518517], [4, 0.0425531914893617], [5, 0.043478260869565216], [6, 0.5], [7, 0.029411764705882353], [8, 0.041666666666666664], [9, 0.044444444444444446], [10, 0.01694915254237288], [11, 0.5], [12, 0.0410958904109589], [13, 0.15294117647058825], [14, 0.16822429906542055], [15, 0.008620689655172414], [16, 0.018518518518518517], [17, 0.05], [18, 1.8256880733944953], [19, 0.01818181818181818], [20, 0.1125], [21, 0.07339449541284404], [22, 0.014084507042253521], [23, 0.029411764705882353]]\n"
     ]
    }
   ],
   "source": [
    "avg_by_hour=[]\n",
    "for each in comments_by_hour:\n",
    "    avg_by_hour.append([each,comments_by_hour[each]/counts_by_hour[each]])\n",
    "    #print(counts_by_hour[each])\n",
    "print(avg_by_hour)\n",
    "\n",
    " "
   ]
  },
  {
   "cell_type": "code",
   "execution_count": 31,
   "metadata": {},
   "outputs": [
    {
     "name": "stdout",
     "output_type": "stream",
     "text": [
      "[[0.2727272727272727, 0], [0.06666666666666667, 1], [0.10344827586206896, 2], [0.018518518518518517, 3], [0.0425531914893617, 4], [0.043478260869565216, 5], [0.5, 6], [0.029411764705882353, 7], [0.041666666666666664, 8], [0.044444444444444446, 9], [0.01694915254237288, 10], [0.5, 11], [0.0410958904109589, 12], [0.15294117647058825, 13], [0.16822429906542055, 14], [0.008620689655172414, 15], [0.018518518518518517, 16], [0.05, 17], [1.8256880733944953, 18], [0.01818181818181818, 19], [0.1125, 20], [0.07339449541284404, 21], [0.014084507042253521, 22], [0.029411764705882353, 23]]\n",
      "Top 5 Hours for Ask Posts Comments\n"
     ]
    },
    {
     "ename": "KeyError",
     "evalue": "'sorted_swap'",
     "output_type": "error",
     "traceback": [
      "\u001b[1;31m\u001b[0m",
      "\u001b[1;31mKeyError\u001b[0mTraceback (most recent call last)",
      "\u001b[1;32m<ipython-input-31-c7fcd373dad8>\u001b[0m in \u001b[0;36m<module>\u001b[1;34m()\u001b[0m\n\u001b[0;32m      8\u001b[0m \u001b[0mprint\u001b[0m\u001b[1;33m(\u001b[0m\u001b[1;34m\"Top 5 Hours for Ask Posts Comments\"\u001b[0m\u001b[1;33m)\u001b[0m\u001b[1;33m\u001b[0m\u001b[0m\n\u001b[0;32m      9\u001b[0m \u001b[1;33m\u001b[0m\u001b[0m\n\u001b[1;32m---> 10\u001b[1;33m \u001b[1;34m\"{sorted_swap} average comments per post.\"\u001b[0m\u001b[1;33m.\u001b[0m\u001b[0mformat\u001b[0m\u001b[1;33m(\u001b[0m\u001b[1;33m)\u001b[0m\u001b[1;33m\u001b[0m\u001b[0m\n\u001b[0m",
      "\u001b[1;31mKeyError\u001b[0m: 'sorted_swap'"
     ]
    }
   ],
   "source": [
    "swap_avg_by_hour=[]\n",
    "for i in avg_by_hour:\n",
    "    swap_avg_by_hour.append([i[1],i[0]])\n",
    "print(swap_avg_by_hour)\n",
    "\n",
    "sorted_swap=sorted(swap_avg_by_hour,reverse=True)\n",
    "#print(sorted_swap)\n",
    "print(\"Top 5 Hours for Ask Posts Comments\")\n",
    "\n",
    "for avg in sorted_swap:\n",
    "    for hr in sorted_swap:\n",
    "        \"{hr:} average comments per post.\".format()"
   ]
  },
  {
   "cell_type": "code",
   "execution_count": null,
   "metadata": {
    "collapsed": true
   },
   "outputs": [],
   "source": []
  }
 ],
 "metadata": {
  "kernelspec": {
   "display_name": "Python 3",
   "language": "python",
   "name": "python3"
  },
  "language_info": {
   "codemirror_mode": {
    "name": "ipython",
    "version": 3
   },
   "file_extension": ".py",
   "mimetype": "text/x-python",
   "name": "python",
   "nbconvert_exporter": "python",
   "pygments_lexer": "ipython3",
   "version": "3.6.4"
  }
 },
 "nbformat": 4,
 "nbformat_minor": 2
}
