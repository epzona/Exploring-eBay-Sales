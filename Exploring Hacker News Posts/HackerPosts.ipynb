{
 "cells": [
  {
   "cell_type": "markdown",
   "metadata": {
    "collapsed": true
   },
   "source": [
    "# Exploring Hacker News posts\n",
    "In this project, I explore posts on [Hacker News](https://news.ycombinator.com/), a popular site where technology related stories (or 'posts') are voted and commented upon. The two types of posts I explore begin with either _Ask HN_ or _Show HN_. Specifically for this project, I want to answer the following:\n",
    "- Do Ask HN or Show HN receive more comments on average?\n",
    "- Do posts created at a certain time receive more comments on average?"
   ]
  },
  {
   "cell_type": "markdown",
   "metadata": {},
   "source": [
    "# Reading in\n",
    "I'll start by reading in the file and removing the header row of the dataset"
   ]
  },
  {
   "cell_type": "code",
   "execution_count": 1,
   "metadata": {
    "collapsed": false,
    "scrolled": true
   },
   "outputs": [
    {
     "name": "stdout",
     "output_type": "stream",
     "text": [
      "[['id', 'title', 'url', 'num_points', 'num_comments', 'author', 'created_at'], ['12224879', 'Interactive Dynamic Video', 'http://www.interactivedynamicvideo.com/', '386', '52', 'ne0phyte', '8/4/2016 11:52'], ['10975351', 'How to Use Open Source and Shut the Fuck Up at the Same Time', 'http://hueniverse.com/2016/01/26/how-to-use-open-source-and-shut-the-fuck-up-at-the-same-time/', '39', '10', 'josep2', '1/26/2016 19:30'], ['11964716', \"Florida DJs May Face Felony for April Fools' Water Joke\", 'http://www.thewire.com/entertainment/2013/04/florida-djs-april-fools-water-joke/63798/', '2', '1', 'vezycash', '6/23/2016 22:20'], ['11919867', 'Technology ventures: From Idea to Enterprise', 'https://www.amazon.com/Technology-Ventures-Enterprise-Thomas-Byers/dp/0073523429', '3', '1', 'hswarna', '6/17/2016 0:01']]\n"
     ]
    }
   ],
   "source": [
    "#Read in the file and display the first few lines. The dataset is a list of lists\n",
    "from csv import reader\n",
    "opened_file=open(\"hacker_news.csv\")\n",
    "reader_file= reader(opened_file)\n",
    "hn=list(reader_file)\n",
    "print(hn[0:5])"
   ]
  },
  {
   "cell_type": "code",
   "execution_count": 2,
   "metadata": {
    "collapsed": false
   },
   "outputs": [
    {
     "name": "stdout",
     "output_type": "stream",
     "text": [
      "['id', 'title', 'url', 'num_points', 'num_comments', 'author', 'created_at']\n",
      "[['12224879', 'Interactive Dynamic Video', 'http://www.interactivedynamicvideo.com/', '386', '52', 'ne0phyte', '8/4/2016 11:52'], ['10975351', 'How to Use Open Source and Shut the Fuck Up at the Same Time', 'http://hueniverse.com/2016/01/26/how-to-use-open-source-and-shut-the-fuck-up-at-the-same-time/', '39', '10', 'josep2', '1/26/2016 19:30'], ['11964716', \"Florida DJs May Face Felony for April Fools' Water Joke\", 'http://www.thewire.com/entertainment/2013/04/florida-djs-april-fools-water-joke/63798/', '2', '1', 'vezycash', '6/23/2016 22:20'], ['11919867', 'Technology ventures: From Idea to Enterprise', 'https://www.amazon.com/Technology-Ventures-Enterprise-Thomas-Byers/dp/0073523429', '3', '1', 'hswarna', '6/17/2016 0:01'], ['10301696', 'Note by Note: The Making of Steinway L1037 (2007)', 'http://www.nytimes.com/2007/11/07/movies/07stein.html?_r=0', '8', '2', 'walterbell', '9/30/2015 4:12']]\n"
     ]
    }
   ],
   "source": [
    "#Remove the header \n",
    "headers=hn[0]\n",
    "hn=hn[1:]\n",
    "print(headers)\n",
    "print(hn[:5])"
   ]
  },
  {
   "cell_type": "markdown",
   "metadata": {},
   "source": [
    "# Filter Data\n",
    "Since I am interested in two different types of posts, I will sort each post as an _Ask_, _Show_, or _Other_"
   ]
  },
  {
   "cell_type": "code",
   "execution_count": 13,
   "metadata": {
    "collapsed": false
   },
   "outputs": [
    {
     "name": "stdout",
     "output_type": "stream",
     "text": [
      "Total number of 'ask' posts: 1744\n",
      "Total number of 'show'posts: 1162\n",
      "Total number of other posts: 17194\n"
     ]
    }
   ],
   "source": [
    "ask_posts=[]\n",
    "show_posts=[]\n",
    "other_posts=[]\n",
    "\n",
    "#check the title and add to the appropriate list \n",
    "for posts in hn:\n",
    "    title=posts[1]\n",
    "    if(title.lower().startswith('ask hn')):\n",
    "        ask_posts.append(posts)\n",
    "    elif(title.lower().startswith('show hn')):\n",
    "        show_posts.append(posts)\n",
    "    else:\n",
    "        other_posts.append(posts)\n",
    "    \n",
    "print(\"Total number of 'ask' posts:\" ,len(ask_posts))\n",
    "print(\"Total number of 'show'posts:\" ,len(show_posts))\n",
    "print(\"Total number of other posts:\" ,len(other_posts))"
   ]
  },
  {
   "cell_type": "markdown",
   "metadata": {},
   "source": [
    "# Calculating the Average Number of Comments for Ask HN and Show HN Posts\n",
    "In the previous section, I counted the number of each type of posts. There is about 1744 asks posts and 1162 show posts. Now I will find the average number of comments for each posts."
   ]
  },
  {
   "cell_type": "code",
   "execution_count": 52,
   "metadata": {
    "collapsed": false
   },
   "outputs": [
    {
     "name": "stdout",
     "output_type": "stream",
     "text": [
      "Avg ask comments:  14.038417431192661\n",
      "Avg show comments:  10.31669535283993\n",
      "<class 'float'>\n"
     ]
    }
   ],
   "source": [
    "total_ask_comments=0\n",
    "#print(ask_posts[0])\n",
    "for p in ask_posts:\n",
    "    num_comments=int(p[4])\n",
    "    total_ask_comments+=num_comments\n",
    "avg_ask_comments=total_ask_comments/len(ask_posts)\n",
    "\n",
    "\n",
    "total_show_comments=0\n",
    "for s in show_posts:\n",
    "    num_scomments=int(s[4])\n",
    "    total_show_comments+=num_scomments\n",
    "avg_show_comments=total_show_comments/len(show_posts)\n",
    "\n",
    "print('Avg ask comments: ',avg_ask_comments)\n",
    "print('Avg show comments: ',avg_show_comments)\n",
    "\n",
    "\n",
    "\n",
    "\n"
   ]
  },
  {
   "cell_type": "markdown",
   "metadata": {},
   "source": [
    "On average, _ask_ posts get 14 comments while _show_ posts only get 10 comments."
   ]
  },
  {
   "cell_type": "markdown",
   "metadata": {},
   "source": [
    "# Calculating asks posts by hour created and average number of comments by hour\n",
    "In the previous section, I saw that _ask_ posts are more likely to receive more comments. I'll now calculate the amount of ask posts created in each hour of the day and the average number of posts by hour created."
   ]
  },
  {
   "cell_type": "code",
   "execution_count": 53,
   "metadata": {
    "collapsed": false
   },
   "outputs": [
    {
     "data": {
      "text/plain": [
       "{'00': 447,\n",
       " '01': 683,\n",
       " '02': 1381,\n",
       " '03': 421,\n",
       " '04': 337,\n",
       " '05': 464,\n",
       " '06': 397,\n",
       " '07': 267,\n",
       " '08': 492,\n",
       " '09': 251,\n",
       " '10': 793,\n",
       " '11': 641,\n",
       " '12': 687,\n",
       " '13': 1253,\n",
       " '14': 1416,\n",
       " '15': 4477,\n",
       " '16': 1814,\n",
       " '17': 1146,\n",
       " '18': 1439,\n",
       " '19': 1188,\n",
       " '20': 1722,\n",
       " '21': 1745,\n",
       " '22': 479,\n",
       " '23': 543}"
      ]
     },
     "execution_count": 53,
     "metadata": {},
     "output_type": "execute_result"
    }
   ],
   "source": [
    "import datetime as dt\n",
    "result_list=[]\n",
    "\n",
    "#Make a new list of asks posts with the time and number of comments\n",
    "for p in ask_posts:\n",
    "    new_list=[]\n",
    "    new_list.append(p[6])\n",
    "    new_list.append(p[4])\n",
    "    result_list.append(new_list)\n",
    "    \n",
    "counts_by_hour={}\n",
    "comments_by_hour={}\n",
    "date_format = \"%m/%d/%Y %H:%M\"\n",
    "\n",
    "#iterate over each hour in the new list and count how many times that hour apears,\n",
    "#also count the number of comments for that hour\n",
    "for r in result_list:\n",
    "    date = r[0]\n",
    "    comment = int(r[1])\n",
    "    time = dt.datetime.strptime(date, date_format).strftime(\"%H\")\n",
    "    if time in counts_by_hour:\n",
    "        comments_by_hour[time] += int(comment)\n",
    "        counts_by_hour[time] += 1\n",
    "    else:\n",
    "        comments_by_hour[time] = int(comment)\n",
    "        counts_by_hour[time] = 1\n",
    "#print(\"Number of comments by hour:\",comments_by_hour)\n",
    "comments_by_hour\n",
    "#print(\"Number of posts by hour:\",counts_by_hour)"
   ]
  },
  {
   "cell_type": "markdown",
   "metadata": {},
   "source": [
    "I'll now use the two dictionaries I created to calculate the average comments within each hour"
   ]
  },
  {
   "cell_type": "code",
   "execution_count": 54,
   "metadata": {
    "collapsed": false
   },
   "outputs": [
    {
     "name": "stdout",
     "output_type": "stream",
     "text": [
      "Average comments within each hour: [['23', 7.985294117647059], ['15', 38.5948275862069], ['11', 11.051724137931034], ['07', 7.852941176470588], ['22', 6.746478873239437], ['14', 13.233644859813085], ['20', 21.525], ['19', 10.8], ['01', 11.383333333333333], ['03', 7.796296296296297], ['05', 10.08695652173913], ['06', 9.022727272727273], ['12', 9.41095890410959], ['13', 14.741176470588234], ['21', 16.009174311926607], ['17', 11.46], ['09', 5.5777777777777775], ['00', 8.127272727272727], ['16', 16.796296296296298], ['02', 23.810344827586206], ['18', 13.20183486238532], ['04', 7.170212765957447], ['10', 13.440677966101696], ['08', 10.25]]\n"
     ]
    }
   ],
   "source": [
    "avg_by_hour=[]\n",
    "for each in comments_by_hour:\n",
    "    avg_by_hour.append([each,comments_by_hour[each]/counts_by_hour[each]])\n",
    "    #print(counts_by_hour[each])\n",
    "print(\"Average comments within each hour:\",avg_by_hour)\n",
    "\n",
    " "
   ]
  },
  {
   "cell_type": "markdown",
   "metadata": {},
   "source": [
    "# Top hours for comments\n",
    "I now have a list of average comments within each hour, but it is difficult to decipher what the top hours for comments are. I'll now swap the hour and comments positions in the list in order to sort by the highest value. Finally, I'll display the top five hours."
   ]
  },
  {
   "cell_type": "code",
   "execution_count": 55,
   "metadata": {
    "collapsed": false
   },
   "outputs": [
    {
     "name": "stdout",
     "output_type": "stream",
     "text": [
      "Top 5 Hours for Ask Posts Comments\n",
      "15:00: 38.59 average comments per post\n",
      "02:00: 23.81 average comments per post\n",
      "20:00: 21.52 average comments per post\n",
      "16:00: 16.80 average comments per post\n",
      "21:00: 16.01 average comments per post\n"
     ]
    }
   ],
   "source": [
    "swap_avg_by_hour=[]\n",
    "for i in avg_by_hour:\n",
    "    swap_avg_by_hour.append([i[1],i[0]])\n",
    "#print(swap_avg_by_hour)\n",
    "\n",
    "sorted_swap=sorted(swap_avg_by_hour,reverse=True)\n",
    "#print(sorted_swap)\n",
    "print(\"Top 5 Hours for Ask Posts Comments\")\n",
    "\n",
    "for avg, hr in sorted_swap[:5]:\n",
    "    print(\n",
    "        \"{}: {:.2f} average comments per post\".format(\n",
    "            dt.datetime.strptime(str(hr), \"%H\").strftime(\"%H:%M\"),avg\n",
    "        )\n",
    "    )"
   ]
  },
  {
   "cell_type": "markdown",
   "metadata": {
    "collapsed": true
   },
   "source": [
    "# Conclusion\n",
    "Looking at the averages, 3 pm EST is the time for the highest chance of receiving comments. Strangely, 2 am is the second highest. Since most users are usually asleep as this time, the comments could be coming from users based on the West Coast or another part of the world."
   ]
  }
 ],
 "metadata": {
  "kernelspec": {
   "display_name": "Python 3",
   "language": "python",
   "name": "python3"
  },
  "language_info": {
   "codemirror_mode": {
    "name": "ipython",
    "version": 3
   },
   "file_extension": ".py",
   "mimetype": "text/x-python",
   "name": "python",
   "nbconvert_exporter": "python",
   "pygments_lexer": "ipython3",
   "version": "3.4.3"
  }
 },
 "nbformat": 4,
 "nbformat_minor": 2
}
