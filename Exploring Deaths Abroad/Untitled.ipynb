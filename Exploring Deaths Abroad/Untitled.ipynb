{
 "cells": [
  {
   "cell_type": "markdown",
   "metadata": {},
   "source": [
    "# Exploring American Deaths Abroad\n",
    "\n",
    "Having the opportunity visit a number of different countries for work and leisure, I was always make sure to research travel risks and stay aware of current news to keep myself safe. One of the resources I use is the U.S. State Dept website, featuring travel advisories and information of American non natural caused deaths overseas since October 2002. In this project, I will explore this dataset to answers questions like:\n",
    "\n",
    "    -What country outside of the U.S. has the most deaths since 2002? In this decade, 2010s?\n",
    "    -What is the leading cause of overseas deaths?\n",
    "    -Is there a particular time of year where deaths are higher?\n",
    "    -Is there a particular time of year where certain types of deaths are higher?"
   ]
  },
  {
   "cell_type": "markdown",
   "metadata": {},
   "source": [
    "\n",
    "[Notes from U.S. State Dept website](https://travel.state.gov/content/travel/en/international-travel/while-abroad/death-abroad1/death-statistics.html)\n",
    "- \"Sec. 204(c) of P.L. 107-228, the Foreign Relations Authorization Act for Fiscal Year 2003, mandates that, to the maximum extent practicable, the Department of State collect and make available on the Department's Bureau of Consular Affairs Internet web site certain information with respect to each United States citizen who dies in a foreign country from a non-natural cause. The information required is: (1) the date of death; (2) the locality where the death occurred; and (3) the cause of death, including, if the death resulted from an act of terrorism, a statement disclosing that fact. The information on the web site must be listed on a country-by-country basis, and must cover deaths occurring since the date of enactment of the legislation on September 30, 2002, or occurring during the preceding three calendar years, whichever period is shorter. The information is updated every six months.\"\n",
    "\n",
    "- \"Deaths that are listed as 'undetermined/unknown' have been reported to the Department of State as deaths from non-natural causes, but local authorities have not provided additional information.\"\n"
   ]
  },
  {
   "cell_type": "code",
   "execution_count": 12,
   "metadata": {},
   "outputs": [
    {
     "name": "stdout",
     "output_type": "stream",
     "text": [
      "         Date                  City    Cause of Death\n",
      "0  10/25/2003  Shkin -  Afghanistan  Terrorist Action\n",
      "1  10/25/2003  Shkin -  Afghanistan  Terrorist Action\n",
      "2   8/29/2004  Kabul -  Afghanistan  Terrorist Action\n",
      "3   8/29/2004  Kabul -  Afghanistan  Terrorist Action\n",
      "4   8/29/2004  Kabul -  Afghanistan  Terrorist Action\n",
      "             Date                                  City Cause of Death\n",
      "count       13728                                 13724          13728\n",
      "unique       5264                                  7728            117\n",
      "top     1/12/2010  Tijuana -  Baja California -  Mexico       Homicide\n",
      "freq          120                                   124           2557\n",
      "             Date                                  City       Cause of Death\n",
      "13723   7/19/2008     Marlborough -  Harare -  Zimbabwe      Veh. Accid-Auto\n",
      "13724    8/9/2009  Mount Pleasant -  Harare -  Zimbabwe  Veh. Accid-Motorcy.\n",
      "13725   12/6/2013                  Mbembesi -  Zimbabwe      Veh. Accid-Auto\n",
      "13726    3/7/2015  Burnside -  Bulawayo -  Matebeleland      Veh. Accid-Auto\n",
      "13727  12/27/2015                                Norton     Veh. Accid-Other\n"
     ]
    }
   ],
   "source": [
    "import pandas as pd\n",
    "deaths= pd.read_csv(\"deaths_abroad.csv\")\n",
    "print(deaths.head())\n",
    "print(deaths.describe())\n",
    "print(deaths.tail())"
   ]
  },
  {
   "cell_type": "markdown",
   "metadata": {},
   "source": [
    "Looking at the dataset, there are about 13,728 entries, since October 2002. There are only 3 columns, date, city, and cause of death. Here are some initials thoughts about each column:\n",
    "- The _date_ column includes month, date, and year. I will seperate these into columns in order to aggregate data later on by month and year. \n",
    "- The _city_ column gives more information than a city. Some entries includes a state/prefecture and the country. At the very least, I want to seperate the country into a different column in order to aggregate data by country.\n",
    "- The _cause of death_ column can include subcategories and different format for the same type of death such as 'Veh. Accid' and 'Vehicle Accident.' This column may need much cleaning."
   ]
  }
 ],
 "metadata": {
  "kernelspec": {
   "display_name": "Python 3",
   "language": "python",
   "name": "python3"
  },
  "language_info": {
   "codemirror_mode": {
    "name": "ipython",
    "version": 3
   },
   "file_extension": ".py",
   "mimetype": "text/x-python",
   "name": "python",
   "nbconvert_exporter": "python",
   "pygments_lexer": "ipython3",
   "version": "3.6.4"
  }
 },
 "nbformat": 4,
 "nbformat_minor": 2
}
