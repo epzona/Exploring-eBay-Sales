{
 "cells": [
  {
   "cell_type": "markdown",
   "metadata": {},
   "source": [
    "# Exploring American Deaths Abroad\n",
    "\n",
    "Having the opportunity visit a number of different countries for work and leisure, I always make sure to research travel risks and stay aware of current news to keep myself safe. One of the resources I use is the U.S. State Dept website, featuring travel advisories and information of American non-natural caused deaths overseas since October 2002. In this project, I will explore this dataset to answers questions like:\n",
    "\n",
    "    -What country outside of the U.S. has the most deaths since 2002? In this decade, 2010s?\n",
    "    -What is the leading cause of overseas deaths?"
   ]
  },
  {
   "cell_type": "markdown",
   "metadata": {},
   "source": [
    "\n",
    "[Notes from U.S. State Dept website](https://travel.state.gov/content/travel/en/international-travel/while-abroad/death-abroad1/death-statistics.html)\n",
    "- \"Sec. 204(c) of P.L. 107-228, the Foreign Relations Authorization Act for Fiscal Year 2003, mandates that, to the maximum extent practicable, the Department of State collect and make available on the Department's Bureau of Consular Affairs Internet web site certain information with respect to each United States citizen who dies in a foreign country from a non-natural cause. The information required is: (1) the date of death; (2) the locality where the death occurred; and (3) the cause of death, including, if the death resulted from an act of terrorism, a statement disclosing that fact. The information on the web site must be listed on a country-by-country basis, and must cover deaths occurring since the date of enactment of the legislation on September 30, 2002, or occurring during the preceding three calendar years, whichever period is shorter. The information is updated every six months.\"\n",
    "\n",
    "- \"Deaths that are listed as 'undetermined/unknown' have been reported to the Department of State as deaths from non-natural causes, but local authorities have not provided additional information.\"\n"
   ]
  },
  {
   "cell_type": "code",
   "execution_count": 387,
   "metadata": {},
   "outputs": [
    {
     "name": "stdout",
     "output_type": "stream",
     "text": [
      "         Date                  City      Country    Cause of Death\n",
      "0  10/25/2003  Shkin -  Afghanistan  Afghanistan  Terrorist Action\n",
      "1  10/25/2003  Shkin -  Afghanistan  Afghanistan  Terrorist Action\n",
      "2   8/29/2004  Kabul -  Afghanistan  Afghanistan  Terrorist Action\n",
      "3   8/29/2004  Kabul -  Afghanistan  Afghanistan  Terrorist Action\n",
      "4   8/29/2004  Kabul -  Afghanistan  Afghanistan  Terrorist Action\n",
      "             Date                                  City Country Cause of Death\n",
      "count       13728                                 13724   13728          13728\n",
      "unique       5264                                  7728     186            117\n",
      "top     1/12/2010  Tijuana -  Baja California -  Mexico  Mexico       Homicide\n",
      "freq          120                                   124    3863           2557\n",
      "             Date                                  City   Country  \\\n",
      "13723   7/19/2008     Marlborough -  Harare -  Zimbabwe  Zimbabwe   \n",
      "13724    8/9/2009  Mount Pleasant -  Harare -  Zimbabwe  Zimbabwe   \n",
      "13725   12/6/2013                  Mbembesi -  Zimbabwe  Zimbabwe   \n",
      "13726    3/7/2015  Burnside -  Bulawayo -  Matebeleland  Zimbabwe   \n",
      "13727  12/27/2015                                Norton  Zimbabwe   \n",
      "\n",
      "            Cause of Death  \n",
      "13723      Veh. Accid-Auto  \n",
      "13724  Veh. Accid-Motorcy.  \n",
      "13725      Veh. Accid-Auto  \n",
      "13726      Veh. Accid-Auto  \n",
      "13727     Veh. Accid-Other  \n"
     ]
    }
   ],
   "source": [
    "import pandas as pd\n",
    "import numpy as np\n",
    "import datetime\n",
    "deaths= pd.read_csv(\"deaths_abroad_semiclean.csv\")\n",
    "print(deaths.head())\n",
    "print(deaths.describe())\n",
    "print(deaths.tail())"
   ]
  },
  {
   "cell_type": "markdown",
   "metadata": {},
   "source": [
    "Looking at the dataset, there are about 13,728 entries, since October 2002. There are only 3 columns, date, city, and cause of death. Here are some initials thoughts about each column:\n",
    "- The _date_ column includes month, date, and year. I will seperate these into columns in order to aggregate data later on by month and year. \n",
    "- The _city_ column gives more information than a city. Some entries includes a state/prefecture and the country. At the very least, I want to seperate the country into a different column in order to aggregate data by country. This column may need much cleaning since some countries are not listed at all.\n",
    "- The _cause of death_ column can include subcategories and different format for the same type of death such as 'Veh. Accid' and 'Vehicle Accident.' "
   ]
  },
  {
   "cell_type": "code",
   "execution_count": 388,
   "metadata": {},
   "outputs": [
    {
     "data": {
      "text/html": [
       "<div>\n",
       "<style scoped>\n",
       "    .dataframe tbody tr th:only-of-type {\n",
       "        vertical-align: middle;\n",
       "    }\n",
       "\n",
       "    .dataframe tbody tr th {\n",
       "        vertical-align: top;\n",
       "    }\n",
       "\n",
       "    .dataframe thead th {\n",
       "        text-align: right;\n",
       "    }\n",
       "</style>\n",
       "<table border=\"1\" class=\"dataframe\">\n",
       "  <thead>\n",
       "    <tr style=\"text-align: right;\">\n",
       "      <th></th>\n",
       "      <th>Date</th>\n",
       "      <th>City</th>\n",
       "      <th>Country</th>\n",
       "      <th>Cause of Death</th>\n",
       "      <th>Year</th>\n",
       "      <th>Month</th>\n",
       "    </tr>\n",
       "  </thead>\n",
       "  <tbody>\n",
       "    <tr>\n",
       "      <th>0</th>\n",
       "      <td>10/25/2003</td>\n",
       "      <td>Shkin -  Afghanistan</td>\n",
       "      <td>Afghanistan</td>\n",
       "      <td>Terrorist Action</td>\n",
       "      <td>2003</td>\n",
       "      <td>10</td>\n",
       "    </tr>\n",
       "    <tr>\n",
       "      <th>1</th>\n",
       "      <td>10/25/2003</td>\n",
       "      <td>Shkin -  Afghanistan</td>\n",
       "      <td>Afghanistan</td>\n",
       "      <td>Terrorist Action</td>\n",
       "      <td>2003</td>\n",
       "      <td>10</td>\n",
       "    </tr>\n",
       "    <tr>\n",
       "      <th>2</th>\n",
       "      <td>8/29/2004</td>\n",
       "      <td>Kabul -  Afghanistan</td>\n",
       "      <td>Afghanistan</td>\n",
       "      <td>Terrorist Action</td>\n",
       "      <td>2004</td>\n",
       "      <td>8</td>\n",
       "    </tr>\n",
       "    <tr>\n",
       "      <th>3</th>\n",
       "      <td>8/29/2004</td>\n",
       "      <td>Kabul -  Afghanistan</td>\n",
       "      <td>Afghanistan</td>\n",
       "      <td>Terrorist Action</td>\n",
       "      <td>2004</td>\n",
       "      <td>8</td>\n",
       "    </tr>\n",
       "    <tr>\n",
       "      <th>4</th>\n",
       "      <td>8/29/2004</td>\n",
       "      <td>Kabul -  Afghanistan</td>\n",
       "      <td>Afghanistan</td>\n",
       "      <td>Terrorist Action</td>\n",
       "      <td>2004</td>\n",
       "      <td>8</td>\n",
       "    </tr>\n",
       "  </tbody>\n",
       "</table>\n",
       "</div>"
      ],
      "text/plain": [
       "         Date                  City      Country    Cause of Death  Year  \\\n",
       "0  10/25/2003  Shkin -  Afghanistan  Afghanistan  Terrorist Action  2003   \n",
       "1  10/25/2003  Shkin -  Afghanistan  Afghanistan  Terrorist Action  2003   \n",
       "2   8/29/2004  Kabul -  Afghanistan  Afghanistan  Terrorist Action  2004   \n",
       "3   8/29/2004  Kabul -  Afghanistan  Afghanistan  Terrorist Action  2004   \n",
       "4   8/29/2004  Kabul -  Afghanistan  Afghanistan  Terrorist Action  2004   \n",
       "\n",
       "   Month  \n",
       "0     10  \n",
       "1     10  \n",
       "2      8  \n",
       "3      8  \n",
       "4      8  "
      ]
     },
     "execution_count": 388,
     "metadata": {},
     "output_type": "execute_result"
    }
   ],
   "source": [
    "deaths['Year'] = pd.DatetimeIndex(deaths['Date']).year\n",
    "deaths['Month'] = pd.DatetimeIndex(deaths['Date']).month\n",
    "deaths.head()"
   ]
  },
  {
   "cell_type": "code",
   "execution_count": 389,
   "metadata": {},
   "outputs": [],
   "source": [
    "def print_full(x):\n",
    "    pd.set_option('display.max_rows', len(x))\n",
    "    print(x)\n",
    "    pd.reset_option('display.max_rows')"
   ]
  },
  {
   "cell_type": "code",
   "execution_count": 390,
   "metadata": {},
   "outputs": [
    {
     "name": "stdout",
     "output_type": "stream",
     "text": [
      "Mexico                                      3863\n",
      "Thailand                                     466\n",
      "Costa Rica                                   454\n",
      "Dominican Republic                           342\n",
      "Philippines                                  333\n",
      "Germany                                      323\n",
      "Haiti                                        302\n",
      "Iraq                                         256\n",
      "Honduras                                     252\n",
      "Jamaica                                      251\n",
      "Canada                                       240\n",
      "China                                        238\n",
      "Bahamas                                      212\n",
      "India                                        197\n",
      "Australia                                    194\n",
      "Korea, Republic of (South Korea)             188\n",
      "Italy                                        167\n",
      "Colombia                                     164\n",
      "Japan                                        162\n",
      "Guatemala                                    158\n",
      "Vietnam                                      152\n",
      "France                                       147\n",
      "Spain                                        144\n",
      "Greece                                       143\n",
      "Afghanistan                                  142\n",
      "El Salvador                                  140\n",
      "Belize                                       138\n",
      "United Kingdom                               134\n",
      "Brazil                                       132\n",
      "Ecuador                                      117\n",
      "Israel, the West Bank, and Gaza              114\n",
      "Netherlands                                  109\n",
      "Panama                                       109\n",
      "Taiwan                                       108\n",
      "Peru                                         100\n",
      "Cambodia                                      93\n",
      "Nicaragua                                     92\n",
      "New Zealand                                   91\n",
      "Egypt                                         85\n",
      "Switzerland                                   82\n",
      "Saudi Arabia                                  76\n",
      "United Arab Emirates                          76\n",
      "South Africa                                  74\n",
      "Indonesia                                     71\n",
      "Nigeria                                       66\n",
      "Poland                                        65\n",
      "Kenya                                         64\n",
      "Barbados                                      62\n",
      "Pakistan                                      58\n",
      "Russia                                        57\n",
      "Jordan                                        56\n",
      "Cuba                                          51\n",
      "Venezuela                                     51\n",
      "Argentina                                     48\n",
      "Hungary                                       45\n",
      "Kuwait                                        43\n",
      "Turkey                                        43\n",
      "Trinidad And Tobago                           42\n",
      "Chile                                         40\n",
      "Nepal                                         40\n",
      "Netherlands Antilles                          38\n",
      "Cayman Islands                                38\n",
      "Austria                                       37\n",
      "Ukraine                                       36\n",
      "Czech Republic                                35\n",
      "Norway                                        35\n",
      "Fiji                                          34\n",
      "Ethiopia                                      34\n",
      "Morocco                                       34\n",
      "Hong Kong                                     33\n",
      "Lebanon                                       33\n",
      "Bolivia                                       31\n",
      "Yemen                                         30\n",
      "Laos                                          30\n",
      "Malaysia                                      30\n",
      "Portugal                                      28\n",
      "Bermuda                                       28\n",
      "Guyana                                        28\n",
      "Tanzania                                      27\n",
      "Romania                                       27\n",
      "Singapore                                     26\n",
      "Ghana                                         26\n",
      "Ireland                                       26\n",
      "Uruguay                                       24\n",
      "Uganda                                        23\n",
      "Qatar                                         22\n",
      "Sweden                                        22\n",
      "Belgium                                       21\n",
      "Croatia                                       20\n",
      "Bangladesh                                    20\n",
      "Bulgaria                                      19\n",
      "Sri Lanka                                     19\n",
      "Syria                                         18\n",
      "British Virgin Islands                        18\n",
      "Denmark                                       18\n",
      "Zambia                                        17\n",
      "Cameroon                                      15\n",
      "Namibia                                       14\n",
      "Georgia                                       14\n",
      "Federated States Of Micronesia                14\n",
      "Liberia                                       13\n",
      "Turks And Caicos Islands                      13\n",
      "Paraguay                                      12\n",
      "Bosnia-Herzegovina                            11\n",
      "Kazakhstan                                    11\n",
      "Mozambique                                    11\n",
      "Iceland                                       10\n",
      "North Macedonia                               10\n",
      "Aruba                                         10\n",
      "Latvia                                        10\n",
      "Tunisia                                       10\n",
      "Zimbabwe                                      10\n",
      "Finland                                       10\n",
      "Armenia                                        9\n",
      "French Polynesia                               9\n",
      "Bahrain                                        9\n",
      "Slovenia                                       9\n",
      "Mali                                           9\n",
      "Togo                                           8\n",
      "Grenada                                        8\n",
      "Somalia                                        7\n",
      "Oman                                           7\n",
      "Congo, Democratic Republic of (Kinshasa)       7\n",
      "Slovakia                                       6\n",
      "Cyprus                                         6\n",
      "Capo Verde                                     6\n",
      "Malawi                                         6\n",
      "Antigua & Barbuda                              6\n",
      "Senegal                                        6\n",
      "Sierra Leone                                   6\n",
      "Iran                                           6\n",
      "Dominca                                        5\n",
      "Sudan                                          5\n",
      "Estonia                                        5\n",
      "The Gambia                                     5\n",
      "Botswana                                       5\n",
      "Eswatini                                       5\n",
      "Angola                                         5\n",
      "Burma                                          5\n",
      "Anguilla                                       5\n",
      "Guinea                                         4\n",
      "Turks and Caicos                               4\n",
      "Seychelles                                     4\n",
      "Algeria                                        4\n",
      "Northern Ireland                               4\n",
      "Papua New Guinea                               4\n",
      "Suirname                                       4\n",
      "Libya                                          4\n",
      "Albania                                        4\n",
      "St. Martin                                     3\n",
      "Cote d'Ivoire                                  3\n",
      "Antarctica                                     3\n",
      "Moldova                                        3\n",
      "Serbia                                         3\n",
      "Palau                                          3\n",
      "Congo, Republic of (Brazzaville)               3\n",
      "Benin                                          3\n",
      "Equatorial Guinea                              3\n",
      "Kyrgyzstan                                     3\n",
      "Tajikistan                                     3\n",
      "Rwanda                                         2\n",
      "Mongolia                                       2\n",
      "St. Kitts and Nevis                            2\n",
      "Tonga                                          2\n",
      "Eritrea                                        2\n",
      "Belarus                                        2\n",
      "St. Lucia                                      2\n",
      "Chad                                           2\n",
      "Uzbekistan                                     2\n",
      "Niger                                          2\n",
      "Luxembourg                                     2\n",
      "Lithuania                                      2\n",
      "Maldives                                       2\n",
      "Mauritius                                      1\n",
      "Monaco                                         1\n",
      "Djibouti                                       1\n",
      "Lesotho                                        1\n",
      "Timor Leste                                    1\n",
      "Montenegro                                     1\n",
      "Turks and Caicos                               1\n",
      "Marshall Islands                               1\n",
      "North Macedonia                                1\n",
      "Saint Vincent and the Grenadines               1\n",
      "Burkina Faso                                   1\n",
      "Mauritania                                     1\n",
      "Azerbaijan                                     1\n",
      "Name: Country, dtype: int64\n"
     ]
    }
   ],
   "source": [
    "import re\n",
    "#deaths['Country']=deaths['City'].str.extract(r'(\\w+)$')\n",
    "print_full(deaths['Country'].value_counts())\n"
   ]
  },
  {
   "cell_type": "code",
   "execution_count": null,
   "metadata": {},
   "outputs": [],
   "source": []
  },
  {
   "cell_type": "markdown",
   "metadata": {},
   "source": [
    "Because the data imported from the state dept only contains records of death events, some countries may have 0 deaths abroad. I'll import a list of countries to compare later with the recorded events. "
   ]
  },
  {
   "cell_type": "code",
   "execution_count": 391,
   "metadata": {},
   "outputs": [
    {
     "name": "stdout",
     "output_type": "stream",
     "text": [
      "['Afghanistan', 'Albania', 'Algeria', 'Andorra', 'Angola', 'Anguilla', 'Antarctica', 'Antigua & Barbuda', 'Argentina', 'Armenia', 'Australia', 'Austria', 'Azerbaijan', 'Bahamas', 'Bahrain', 'Bangladesh', 'Barbados', 'Belarus', 'Belgium', 'Belize', 'Benin', 'Bermuda', 'Bhutan', 'Bolivia', 'Bosnia-Herzegovina', 'Botswana', 'Brazil', 'Brunei Darussalam', 'British Virgin Islands', 'Bulgaria', 'Burkina Faso', 'Burma', 'Capo Verde', 'Cambodia', 'Cameroon', 'Canada', 'Cape Verde', 'Cayman Islands', 'Chad', 'Chile', 'China', 'Colombia', 'Congo, Democratic Republic of (Kinshasa)', 'Congo, Republic of (Brazzaville)', 'Costa Rica', \"Cote d'Ivoire\", 'Croatia', 'Cuba', 'Cyprus', 'Czech Republic', 'Denmark', 'Djibouti', 'Dominica', 'Dominican Republic', 'Ecuador', 'Egypt', 'El Salvador', 'Equatorial Guinea', 'Eritrea', 'Estonia', 'Eswatini', 'Ethiopia', 'Federated States of Micronesia', 'Fiji', 'Finland', 'France', 'French Polynesia', 'Gabon', 'The Gambia', 'Georgia', 'Germany', 'Ghana', 'Greece', 'Grenada', 'Guatemala', 'Guinea', 'Guyana', 'Haiti', 'Honduras', 'Hong Kong', 'Hungary', 'Iceland', 'India', 'Indonesia', 'Iran', 'Iraq', 'Ireland', 'Israel, the West Bank, and Gaza', 'Italy', 'Jamaica', 'Japan', 'Jordan', 'Kazakhstan', 'Kenya', 'Korea, Democratic Republic of (North Korea)', 'Korea, Republic of (South Korea)', 'Kuwait', 'Kyrgyz Republic', 'Laos', 'Latvia', 'Lebanon', 'Lesotho', 'Liberia', 'Libya', 'Lithuania', 'Luxembourg', 'Malawi', 'Malaysia', 'Maldives', 'Mali', 'Marshall Islands', 'Mauritania', 'Mauritius', 'Mexico', 'Moldova', 'Monaco', 'Mongolia', 'Montenegro', 'Morocco', 'Mozambique', 'Namibia', 'Nepal', 'Netherlands', 'Netherlands Antilles', 'New Zealand', 'Nicaragua', 'Niger', 'Nigeria', 'North Macedonia', 'North Ireland', 'Norway', 'Oman', 'Pakistan', 'Palau', 'Panama', 'Papua New Guinea', 'Paraguay', 'Peru', 'Philippines', 'Poland', 'Portugal', 'Puerto Rico', 'Qatar', 'Romania', 'Russian ', 'Rwanda', 'Saint Vincent and the Grenadines', 'Saudi Arabia', 'Senegal', 'Serbia', 'Seychelles', 'Sierra Leone', 'Singapore', 'Slovakia', 'Slovenia', 'Somalia', 'South Africa', 'South Sudan', 'Spain', 'Sri Lanka', 'St. Kitts and Nevis', 'Sudan', 'Suriname', 'Sweden', 'Switzerland', 'Syria', 'Taiwan', 'Tajikistan', 'Tanzania', 'Thailand', 'Timor Leste', 'Togo', 'Trinidad and Tobago', 'Tunisia', 'Turkey', 'Turkmenistan', 'Turks and Caicos ', 'Uganda', 'Ukraine', 'United Arab Emirates', 'United Kingdom', 'Uruguay', 'Uzbekistan', 'Venezuela', 'Vietnam', 'Yemen', 'Zambia', 'Zimbabwe']\n",
      "188\n"
     ]
    }
   ],
   "source": [
    "from csv import reader\n",
    "opened_file=open(\"country_list.csv\")\n",
    "reader_file= reader(opened_file)\n",
    "countries=list(reader_file)\n",
    "\n",
    "countries_clean=[]\n",
    "for country in countries:\n",
    "    for c in country:\n",
    "        countries_clean.append(c)\n",
    "        \n",
    "print_full(countries_clean)\n",
    "print(len(countries_clean))"
   ]
  },
  {
   "cell_type": "code",
   "execution_count": 392,
   "metadata": {},
   "outputs": [
    {
     "name": "stdout",
     "output_type": "stream",
     "text": [
      "Homicide                              2557\n",
      "Suicide                               1973\n",
      "Drowning                              1752\n",
      "Other Accident                        1708\n",
      "Veh. Accid-Auto                       1659\n",
      "Veh. Accident-Auto                     887\n",
      "Veh. Accid-Motorcy.                    455\n",
      "Air Accident                           400\n",
      "Terrorist Action                       390\n",
      "Drug-Related                           341\n",
      "Veh. Accid-Pedestr.                    186\n",
      "Disaster                               166\n",
      "Vehicle Accident - Auto                152\n",
      "Veh. Accident-Motorcycle               146\n",
      "Maritime Accident                      139\n",
      "Veh. Accid-Other                       120\n",
      "Veh. Accid-Bus                         115\n",
      "Veh. Accident-Pedestrian                65\n",
      "Undetermined/Unknown                    54\n",
      "Natural Disaster                        45\n",
      "Veh. Accident-Bus                       34\n",
      "Vehicle Accident - Motorcycle           32\n",
      "Unknown/Undetermined                    25\n",
      "Veh. Accid-Train                        22\n",
      "Veh. Accident                           21\n",
      "Execution                               18\n",
      "Vehicle Accident - Pedestrian           17\n",
      "Veh. Accident-Other                     17\n",
      "Drowning - Ocean                        15\n",
      "Train Accident                          14\n",
      "Veh. Accident - Auto                    12\n",
      "Drowning-Beach                          12\n",
      "Vehicle Accident - Other                10\n",
      "Vehicle Accident - Bus                   9\n",
      "Drowning-Ocean                           8\n",
      "Veh. Accid                               6\n",
      "Armed Conflict                           6\n",
      "Drowning-River                           6\n",
      "Other                                    5\n",
      "Veh. Accident-Train                      5\n",
      "Vehic. Accident-Auto                     5\n",
      "Undetermined/unknown                     5\n",
      "Unknown                                  4\n",
      "Veh.Accident-Auto                        4\n",
      "Drowning-Lake                            4\n",
      "Drowning - Pool¬†                        4\n",
      "Veh. Accident -Auto                      3\n",
      "homicide                                 3\n",
      "Vehicle Accident - Train                 3\n",
      "DROWNING-Ocean                           3\n",
      "Drowning - River                         3\n",
      "DROWNING-BEACH                           3\n",
      "Drowning-OCEAN                           3\n",
      "Drowning-POOL                            2\n",
      "Drug-related                             2\n",
      "Other accident                           2\n",
      "Other Accident - Fall                    2\n",
      "Drowning -Ocean                          2\n",
      "Veh. Accid- Auto                         2\n",
      "Vehic. Accident-Train                    2\n",
      "Drowning - Pool                          2\n",
      "Veh. Accident¬†                          2\n",
      "Veh. Accident-other                      2\n",
      "Drowning - Beach                         2\n",
      "Other Accident-fall                      2\n",
      "Drowning - Ocean¬†                       2\n",
      "Veh. Accid - Auto                        1\n",
      "Drowning-LAKE                            1\n",
      "Under Investigation                      1\n",
      "Other¬† Accident                         1\n",
      "Veh Accident - Auto                      1\n",
      "Veh. Accident- Auto                      1\n",
      "Drowning-Pool                            1\n",
      "DROWNING                                 1\n",
      "Other Accident-Fall                      1\n",
      "Vehicle Acid.-Auto                       1\n",
      "Veh. Accident-Pedestr                    1\n",
      "Drowning¬†                               1\n",
      "Veh. Accid- Other                        1\n",
      "Hostage-related                          1\n",
      "Veh.Accident-Bus                         1\n",
      "Drowning- Ocean                          1\n",
      "Drowning- BEACH                          1\n",
      "Veh. Accid - Pedestr.                    1\n",
      "Drowning-CANAL                           1\n",
      "Hostage-related                          1\n",
      "Vehic. Accident- Other                   1\n",
      "Other Accident- Hiking                   1\n",
      "Other Accident- fall                     1\n",
      "Drowning-RIVER                           1\n",
      "Veh. Accident - Bus                      1\n",
      "Other Accident - Rafting                 1\n",
      "Other Accident - fall                    1\n",
      "Drowning - Beach¬†                       1\n",
      "Veh. Accident- Pedestrian                1\n",
      "Drowning- LAKE                           1\n",
      "Vehic. Accident-Motorcycle               1\n",
      "Veh. Accident - Motorcycle               1\n",
      "other Accident                           1\n",
      "Drowning-beach                           1\n",
      "DROWNING-SEA                             1\n",
      "Drowning-BEACH                           1\n",
      "Homocide                                 1\n",
      "Drowning-Bay                             1\n",
      "Veh-Accident-Bus                         1\n",
      "Veh. Accid-Pedestrian                    1\n",
      "Veh Accident - Motorcycle                1\n",
      "Veh. Accident- Bus                       1\n",
      "Other Accident¬†                         1\n",
      "Other Accident-Mountain                  1\n",
      "Other Accident - Mountain Climbing       1\n",
      "Veh. Accid- Pedestr                      1\n",
      "Other Accid.-Fall                        1\n",
      "Veh. Accid-bike                          1\n",
      "Other Accident-                          1\n",
      "Drowning-Bridge                          1\n",
      "Veh. Accid- Bus                          1\n",
      "Name: Cause of Death, dtype: int64\n"
     ]
    }
   ],
   "source": [
    "print_full(deaths['Cause of Death'].value_counts())"
   ]
  },
  {
   "cell_type": "markdown",
   "metadata": {},
   "source": [
    "# Cleaning cause of death\n",
    "Looking at the _cause of death_ column, there are many formats for the same type of cause, creating unique values. I will generalize most of the causes, mainly the drownings and vehicles accidents"
   ]
  },
  {
   "cell_type": "code",
   "execution_count": 393,
   "metadata": {},
   "outputs": [
    {
     "name": "stdout",
     "output_type": "stream",
     "text": [
      "vehicle accident        4013\n",
      "homicide                2561\n",
      "suicide                 1973\n",
      "drowning                1838\n",
      "other accident          1731\n",
      "air accident             400\n",
      "terrorist action         390\n",
      "drug-related             343\n",
      "disaster                 166\n",
      "maritime accident        139\n",
      "unknown/undetermined      89\n",
      "natural disaster          45\n",
      "execution                 18\n",
      "train accident            14\n",
      "armed conflict             6\n",
      "hostage-related            2\n",
      "Name: Cause of Death, dtype: int64\n"
     ]
    }
   ],
   "source": [
    "deaths['Cause of Death']=deaths['Cause of Death'].str.lower()\n",
    "\n",
    "#find all types of vehicles accidents and change to just 'Vehicle Accident'\n",
    "deaths.loc[deaths['Cause of Death'].str.contains('veh'),'Cause of Death']='vehicle accident'\n",
    "#find all types of drowings and change to just 'Drowning'\n",
    "deaths.loc[deaths['Cause of Death'].str.contains('drown'),'Cause of Death']='drowning'\n",
    "\n",
    "deaths.loc[deaths['Cause of Death'].str.contains('other'),'Cause of Death']='other accident'\n",
    "deaths.loc[deaths['Cause of Death'].str.contains('unknown'),'Cause of Death']='unknown/undetermined'\n",
    "deaths.loc[deaths['Cause of Death'].str.contains('investigation'),'Cause of Death']='unknown/undetermined'\n",
    "deaths.loc[deaths['Cause of Death'].str.contains('homocide'),'Cause of Death']='homicide'\n",
    "deaths.loc[deaths['Cause of Death'].str.contains('hostage'),'Cause of Death']='hostage-related'\n",
    "\n",
    "print_full(deaths['Cause of Death'].value_counts())\n"
   ]
  },
  {
   "cell_type": "markdown",
   "metadata": {},
   "source": [
    "# Exploring the Data\n",
    "Now that the data is clean enough, I will try to answer my original questions.\n",
    "\n",
    "The leading cause of death of Americans abroad are vehicle accidents followed by homicides, suicides, and drownings. "
   ]
  },
  {
   "cell_type": "code",
   "execution_count": 394,
   "metadata": {},
   "outputs": [],
   "source": [
    "#This line is used to export the clean data\n",
    "#deaths.to_csv(r'deaths_abroad_clean.csv')"
   ]
  },
  {
   "cell_type": "code",
   "execution_count": 395,
   "metadata": {},
   "outputs": [
    {
     "name": "stdout",
     "output_type": "stream",
     "text": [
      "Countries with mosts deaths overseas\n",
      "Mexico                3863\n",
      "Thailand               466\n",
      "Costa Rica             454\n",
      "Dominican Republic     342\n",
      "Philippines            333\n",
      "Germany                323\n",
      "Haiti                  302\n",
      "Iraq                   256\n",
      "Honduras               252\n",
      "Jamaica                251\n",
      "Name: Country, dtype: int64\n",
      "Countries with most vehicle accident deaths overseas\n"
     ]
    },
    {
     "data": {
      "text/plain": [
       "Mexico                1378\n",
       "Thailand               171\n",
       "Dominican Republic     114\n",
       "Philippines             90\n",
       "India                   89\n",
       "Costa Rica              88\n",
       "China                   82\n",
       "Germany                 74\n",
       "Vietnam                 74\n",
       "Canada                  73\n",
       "Name: Country, dtype: int64"
      ]
     },
     "execution_count": 395,
     "metadata": {},
     "output_type": "execute_result"
    }
   ],
   "source": [
    "grouped_country=deaths.groupby('Country')\n",
    "grouped_cause=deaths.groupby('Cause of Death')\n",
    "\n",
    "japan=grouped_country.get_group('Japan')\n",
    "#japan['Cause of Death'].value_counts()\n",
    "va=grouped_cause.get_group('vehicle accident')\n",
    "print('Countries with mosts deaths overseas')\n",
    "print(deaths['Country'].value_counts().head(10))\n",
    "print('Countries with most vehicle accident deaths overseas')\n",
    "va['Country'].value_counts().head(10)"
   ]
  },
  {
   "cell_type": "markdown",
   "metadata": {},
   "source": [
    "Looking into vehicles accidents even further, the top five countries for vehicles accident deaths since 2002 were Mexico, Thailand, Dominican Republic, Philippines and India. These nearly match the top countries for overall deaths"
   ]
  },
  {
   "cell_type": "code",
   "execution_count": 396,
   "metadata": {},
   "outputs": [
    {
     "data": {
      "text/plain": [
       "<matplotlib.axes._subplots.AxesSubplot at 0x1eafd3a7390>"
      ]
     },
     "execution_count": 396,
     "metadata": {},
     "output_type": "execute_result"
    },
    {
     "data": {
      "image/png": "[encoded data removed]",
      "text/plain": [
       "<Figure size 432x288 with 1 Axes>"
      ]
     },
     "metadata": {},
     "output_type": "display_data"
    }
   ],
   "source": [
    "va['Country'].value_counts().head(6).plot(kind='barh',xlim=(0,1500),title='Most vehicle accident deaths abroad since 2002',legend=False)\n"
   ]
  },
  {
   "cell_type": "code",
   "execution_count": 397,
   "metadata": {},
   "outputs": [
    {
     "name": "stdout",
     "output_type": "stream",
     "text": [
      "Countries with most homicides overseas\n",
      "Mexico                1129\n",
      "Philippines            144\n",
      "Haiti                  117\n",
      "Honduras               106\n",
      "Dominican Republic     105\n",
      "Colombia                79\n",
      "Jamaica                 73\n",
      "Guatemala               64\n",
      "El Salvador             62\n",
      "Costa Rica              54\n",
      "Name: Country, dtype: int64\n"
     ]
    }
   ],
   "source": [
    "hom=grouped_cause.get_group('homicide')\n",
    "print('Countries with most homicides overseas')\n",
    "print(hom['Country'].value_counts().head(10))"
   ]
  },
  {
   "cell_type": "code",
   "execution_count": 398,
   "metadata": {},
   "outputs": [
    {
     "name": "stdout",
     "output_type": "stream",
     "text": [
      "Countries with most suicides overseas\n",
      "Mexico                              348\n",
      "Germany                             125\n",
      "Thailand                            118\n",
      "Korea, Republic of (South Korea)    100\n",
      "Japan                                87\n",
      "Costa Rica                           65\n",
      "France                               55\n",
      "Australia                            55\n",
      "Philippines                          52\n",
      "China                                49\n",
      "Name: Country, dtype: int64\n"
     ]
    }
   ],
   "source": [
    "sui=grouped_cause.get_group('suicide')\n",
    "print('Countries with most suicides overseas')\n",
    "print(sui['Country'].value_counts().head(10))"
   ]
  },
  {
   "cell_type": "code",
   "execution_count": 399,
   "metadata": {},
   "outputs": [
    {
     "name": "stdout",
     "output_type": "stream",
     "text": [
      "Countries with most drownings overseas\n",
      "Mexico                470\n",
      "Costa Rica            141\n",
      "Bahamas               112\n",
      "Jamaica                67\n",
      "Dominican Republic     60\n",
      "Belize                 46\n",
      "Greece                 46\n",
      "Thailand               38\n",
      "Australia              34\n",
      "Honduras               34\n",
      "Name: Country, dtype: int64\n"
     ]
    }
   ],
   "source": [
    "drown=grouped_cause.get_group('drowning')\n",
    "print('Countries with most drownings overseas')\n",
    "print(drown['Country'].value_counts().head(10))"
   ]
  },
  {
   "cell_type": "code",
   "execution_count": 400,
   "metadata": {},
   "outputs": [
    {
     "name": "stdout",
     "output_type": "stream",
     "text": [
      "Countries with most deaths since 2010\n"
     ]
    },
    {
     "data": {
      "text/plain": [
       "Mexico         2266\n",
       "Thailand        275\n",
       "Costa Rica      261\n",
       "Haiti           246\n",
       "Philippines     232\n",
       "Name: Country, dtype: int64"
      ]
     },
     "execution_count": 400,
     "metadata": {},
     "output_type": "execute_result"
    }
   ],
   "source": [
    "deaths_2010s=deaths[deaths['Year']>=2010]\n",
    "print('Countries with most deaths since 2010')\n",
    "deaths_2010s['Country'].value_counts().head(5)"
   ]
  },
  {
   "cell_type": "code",
   "execution_count": 460,
   "metadata": {},
   "outputs": [
    {
     "data": {
      "text/plain": [
       "<matplotlib.axes._subplots.AxesSubplot at 0x1eafe788cf8>"
      ]
     },
     "execution_count": 460,
     "metadata": {},
     "output_type": "execute_result"
    },
    {
     "data": {
      "image/png": "[encoded data removed]",
      "text/plain": [
       "<Figure size 432x288 with 1 Axes>"
      ]
     },
     "metadata": {},
     "output_type": "display_data"
    }
   ],
   "source": [
    "grouped_country_since2010=deaths.groupby('Country')\n",
    "grouped_cause_since2010=deaths_2010s.groupby('Cause of Death')\n",
    "\n",
    "deaths_2010s['Country'].value_counts().head(6).plot(kind='barh',xlim=(0,2500),title='Most deaths abroad since 2010',legend=False)\n",
    "\n",
    "#cr=grouped_country_since2015.get_group('Costa Rica')\n",
    "#print(cr['Year'].value_counts())\n",
    "\n",
    "#th=grouped_country_since2015.get_group('Thailand')\n",
    "#print(th['Year'].value_counts())\n",
    "\n",
    "#ph=grouped_country_since2015.get_group('Philippines')\n",
    "#print(ph['Year'].value_counts())\n",
    "\n",
    "#th=grouped_cause_since2015.get_group('drowning')\n",
    "#print(th['Year'].value_counts())"
   ]
  },
  {
   "cell_type": "code",
   "execution_count": 461,
   "metadata": {},
   "outputs": [
    {
     "data": {
      "text/plain": [
       "<matplotlib.axes._subplots.AxesSubplot at 0x1eafe7de320>"
      ]
     },
     "execution_count": 461,
     "metadata": {},
     "output_type": "execute_result"
    },
    {
     "data": {
      "image/png": "[encoded data removed]",
      "text/plain": [
       "<Figure size 432x288 with 1 Axes>"
      ]
     },
     "metadata": {},
     "output_type": "display_data"
    }
   ],
   "source": [
    "#grouped_month=deaths_2010s.groupby('Month')\n",
    "\n",
    "#month=grouped_month.get_group(7)\n",
    "#month['Year'].value_counts()\n",
    "deaths_2010s['Cause of Death'].value_counts().head(5).plot(kind='barh',xlim=(0,2500),title='Top Causes in All Countries since 2010',legend=False)\n"
   ]
  }
 ],
 "metadata": {
  "kernelspec": {
   "display_name": "Python 3",
   "language": "python",
   "name": "python3"
  },
  "language_info": {
   "codemirror_mode": {
    "name": "ipython",
    "version": 3
   },
   "file_extension": ".py",
   "mimetype": "text/x-python",
   "name": "python",
   "nbconvert_exporter": "python",
   "pygments_lexer": "ipython3",
   "version": "3.6.4"
  }
 },
 "nbformat": 4,
 "nbformat_minor": 2
}
